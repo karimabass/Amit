{
 "cells": [
  {
   "cell_type": "markdown",
   "id": "bd66b89e",
   "metadata": {},
   "source": [
    "1. Implement Fibonacci series using recursion."
   ]
  },
  {
   "cell_type": "code",
   "execution_count": 13,
   "id": "4c87a57b",
   "metadata": {},
   "outputs": [
    {
     "name": "stdout",
     "output_type": "stream",
     "text": [
      "please enter number of terms 8\n",
      "fibonacci series will be \n",
      "[0, 1, 1, 2, 3, 5, 8, 13]\n"
     ]
    }
   ],
   "source": [
    "def fib_sers(nterm):\n",
    "    x=[0,1]  \n",
    "    print(\"fibonacci series will be \")\n",
    "    m=2\n",
    "    for i in range(nterm-2):\n",
    "        if nterm==0 :\n",
    "            fnew=0\n",
    "            break\n",
    "        elif nterm==1:\n",
    "                fnew=(0,1)\n",
    "                break\n",
    "        else:\n",
    "            fnew=x[m-2]+x[m-1]\n",
    "            m+=1\n",
    "            f=x.append(fnew)\n",
    "    return(x)\n",
    "\n",
    "n=int(input(\"please enter number of terms \"))\n",
    "x=fib_sers(n)\n",
    "print(x)"
   ]
  },
  {
   "cell_type": "markdown",
   "id": "4e94d373",
   "metadata": {},
   "source": [
    "2. Write a Python program to find all the unique words and count the frequency of\n",
    "occurrence from a given list of strings."
   ]
  },
  {
   "cell_type": "code",
   "execution_count": 15,
   "id": "7fe362a6",
   "metadata": {},
   "outputs": [
    {
     "name": "stdout",
     "output_type": "stream",
     "text": [
      "1\n"
     ]
    }
   ],
   "source": [
    "x=[\"apple\",\"kiwi\",\"apple\",\"orange\"]\n",
    "y=x.count(\"kiwi\")\n",
    "print(y)\n"
   ]
  },
  {
   "cell_type": "markdown",
   "id": "423b3c45",
   "metadata": {},
   "source": [
    "3. Write a Python program that finds all pairs of elements in a list whose sum is equal to a given value."
   ]
  },
  {
   "cell_type": "code",
   "execution_count": 5,
   "id": "3d6b9b98",
   "metadata": {},
   "outputs": [
    {
     "name": "stdout",
     "output_type": "stream",
     "text": [
      "insert the required value12\n",
      "index no.  0   index no.  9\n",
      "5   7\n",
      "index no.  2   index no.  7\n",
      "2   10\n",
      "index no.  3   index no.  6\n",
      "3   9\n",
      "index no.  4   index no.  5\n",
      "6   6\n",
      "index no.  8   index no.  10\n",
      "4   8\n",
      "index no.  9   index no.  11\n",
      "7   5\n"
     ]
    }
   ],
   "source": [
    "x=[5,1,2,3,6,6,9,10,4,7,8,5]\n",
    "yrequired=int(input(\"insert the required value\"))\n",
    "for m in range(len(x)-1):\n",
    "    for i in range(m+1,len(x),1):\n",
    "        if (x[m]+x[i])==yrequired:\n",
    "            print(\"index no. \" ,m ,\" \",\"index no. \" ,i)\n",
    "            print(x[m],\" \",x[i])\n",
    "        else:\n",
    "            pass"
   ]
  },
  {
   "cell_type": "markdown",
   "id": "1a4a91f3",
   "metadata": {},
   "source": [
    "4. Write a Python program to find the two numbers whose product is maximum among all the pairs in a given list of numbers"
   ]
  },
  {
   "cell_type": "code",
   "execution_count": 7,
   "id": "850999c5",
   "metadata": {},
   "outputs": [
    {
     "name": "stdout",
     "output_type": "stream",
     "text": [
      "index no.  3   index no.  7   maximum is  300\n"
     ]
    }
   ],
   "source": [
    "f=[]\n",
    "x=[5,1,2,30,6,6,9,10,4,7,8,5]\n",
    "for m in range(len(x)-1):\n",
    "    for i in range(m+1,len(x),1):\n",
    "        pro=(x[m]*x[i])\n",
    "        f.append(pro)\n",
    "        if (x[m]*x[i])==max(f):\n",
    "            indx1=m\n",
    "            indx2=i\n",
    "            maxum=x[m]*x[i]\n",
    "        else:\n",
    "            pass\n",
    "print(\"index no. \" ,indx1 ,\" \",\"index no. \" ,indx2 ,\" \", \"maximum is \" , maxum)"
   ]
  },
  {
   "cell_type": "markdown",
   "id": "9a2a3175",
   "metadata": {},
   "source": [
    "5. Write a Python function that takes a number as a parameter and checks whether the number is prime or not."
   ]
  },
  {
   "cell_type": "code",
   "execution_count": 32,
   "id": "13efc78f",
   "metadata": {},
   "outputs": [
    {
     "name": "stdout",
     "output_type": "stream",
     "text": [
      " insert the number   1\n",
      "prim number\n"
     ]
    }
   ],
   "source": [
    "def prim(n):\n",
    "    if n==2 or n==3:\n",
    "        print(\"prim number\")\n",
    "    else:\n",
    "        op=(n-1)/6\n",
    "        op2=(n+1)/6\n",
    "        if (op%2)==0 or ((op+1)%2)==0:\n",
    "            print(\"prim number\")\n",
    "        elif (op2%2)==0 or ((op2+1)%2)==0:\n",
    "            print(\"prim number\")\n",
    "        else:\n",
    "            print(\"not prim number\")\n",
    "y=float(input(\" insert the number   \"))\n",
    "m=prim(y)\n",
    "\n"
   ]
  },
  {
   "cell_type": "markdown",
   "id": "503523b7",
   "metadata": {},
   "source": [
    "6. Write a Python function to print the even numbers from a given list."
   ]
  },
  {
   "cell_type": "code",
   "execution_count": 34,
   "id": "4992950e",
   "metadata": {},
   "outputs": [
    {
     "name": "stdout",
     "output_type": "stream",
     "text": [
      "2\n",
      "8\n",
      "6\n",
      "4\n",
      "62\n",
      "12\n"
     ]
    }
   ],
   "source": [
    "def evenn(x):\n",
    "    for i in range(0,len(x),1):\n",
    "        if x[i]%2==0:\n",
    "            print(x[i])\n",
    "        else:\n",
    "            pass\n",
    "y=[1,2,5,8,9,3,6,4,65,45,62,3,5,12]\n",
    "evenn(y)"
   ]
  },
  {
   "cell_type": "markdown",
   "id": "ee01fc45",
   "metadata": {},
   "source": [
    "7. Write a function that will take a given string and reverse the order of words.\n",
    "Ex:\n",
    "“Hello world” →”world Hello”"
   ]
  },
  {
   "cell_type": "code",
   "execution_count": 56,
   "id": "522d7dbf",
   "metadata": {},
   "outputs": [
    {
     "name": "stdout",
     "output_type": "stream",
     "text": [
      "['world', 'hello']\n"
     ]
    }
   ],
   "source": [
    "x=\"hello world\"\n",
    "y=x.split()\n",
    "m=y[::-1]\n",
    "print(m)"
   ]
  },
  {
   "cell_type": "markdown",
   "id": "7bee6a6f",
   "metadata": {},
   "source": [
    "8. Given an integer x, return true if x is a palindrome, and false otherwise."
   ]
  },
  {
   "cell_type": "code",
   "execution_count": 101,
   "id": "3cbc91ec",
   "metadata": {},
   "outputs": [
    {
     "name": "stdout",
     "output_type": "stream",
     "text": [
      "the number   -121\n",
      "false\n"
     ]
    }
   ],
   "source": [
    "def chck(x,g):\n",
    "    c=0\n",
    "    y=list(x)\n",
    "    m=list(g)\n",
    "    m.reverse()\n",
    "    for i in range(len(m)):\n",
    "        if m[i]!=y[i]:\n",
    "            c=1\n",
    "        else:\n",
    "            pass\n",
    "   \n",
    "    if c==1:\n",
    "        print(\"false\")\n",
    "    else:\n",
    "        print(\"true\")\n",
    "        \n",
    "x=input(\"the number   \")\n",
    "chck(x,x)"
   ]
  },
  {
   "cell_type": "markdown",
   "id": "28262a51",
   "metadata": {},
   "source": [
    " 9. Write a Python function that checks whether a passed string is a palindrome or not.\n"
   ]
  },
  {
   "cell_type": "code",
   "execution_count": 105,
   "id": "1afa96cf",
   "metadata": {},
   "outputs": [
    {
     "name": "stdout",
     "output_type": "stream",
     "text": [
      "enter the string   woow\n",
      "true\n"
     ]
    }
   ],
   "source": [
    "def chck(x,g):\n",
    "    c=0\n",
    "    y=list(x)\n",
    "    m=list(g)\n",
    "    m.reverse()\n",
    "    for i in range(len(m)):\n",
    "        if m[i]!=y[i]:\n",
    "            c=1\n",
    "        else:\n",
    "            pass\n",
    "   \n",
    "    if c==1:\n",
    "        print(\"false\")\n",
    "    else:\n",
    "        print(\"true\")\n",
    "        \n",
    "x=input(\"enter the string   \")\n",
    "chck(x,x)"
   ]
  },
  {
   "cell_type": "markdown",
   "id": "9ca03f48",
   "metadata": {},
   "source": [
    "10. Write a Python function to create and print a list where the values are the squares of numbers between 1 and 30 (both included)."
   ]
  },
  {
   "cell_type": "code",
   "execution_count": 106,
   "id": "2796d7ab",
   "metadata": {},
   "outputs": [
    {
     "name": "stdout",
     "output_type": "stream",
     "text": [
      "[0, 1, 4, 9, 16, 25, 36, 49, 64, 81, 100, 121, 144, 169, 196, 225, 256, 289, 324, 361, 400, 441, 484, 529, 576, 625, 676, 729, 784, 841, 900]\n"
     ]
    }
   ],
   "source": [
    "x=[]\n",
    "for i in range(31):\n",
    "    f=i**2\n",
    "    x.append(f)\n",
    "print(x)"
   ]
  },
  {
   "cell_type": "markdown",
   "id": "9a041012",
   "metadata": {},
   "source": [
    "11. Write a Python function to generate all permutations of a list.\n"
   ]
  },
  {
   "cell_type": "code",
   "execution_count": 6,
   "id": "d15fe7e0",
   "metadata": {},
   "outputs": [
    {
     "name": "stdout",
     "output_type": "stream",
     "text": [
      "[[1, 2]]\n"
     ]
    }
   ],
   "source": [
    "g=[]\n",
    "\n",
    "g.append([1,2])\n",
    "print(g)"
   ]
  },
  {
   "cell_type": "markdown",
   "id": "a9cd42cb",
   "metadata": {},
   "source": [
    "12. Write a Python program to access a function inside a function."
   ]
  },
  {
   "cell_type": "code",
   "execution_count": 10,
   "id": "b83ccd75",
   "metadata": {},
   "outputs": [
    {
     "name": "stdout",
     "output_type": "stream",
     "text": [
      "insert the number 1       5\n",
      "insert the number2      6\n",
      "number 1 + number 2 =  11\n"
     ]
    }
   ],
   "source": [
    "def test(a):\n",
    "    def add(b):\n",
    "        return a + b\n",
    "    return add(int(input(\"insert the number2      \")))\n",
    "\n",
    "func = test(int(input(\"insert the number 1       \")))\n",
    "print(\"number 1 + number 2 = \",func) \n"
   ]
  },
  {
   "cell_type": "code",
   "execution_count": null,
   "id": "bffcbcb3",
   "metadata": {},
   "outputs": [],
   "source": []
  }
 ],
 "metadata": {
  "kernelspec": {
   "display_name": "Python 3 (ipykernel)",
   "language": "python",
   "name": "python3"
  },
  "language_info": {
   "codemirror_mode": {
    "name": "ipython",
    "version": 3
   },
   "file_extension": ".py",
   "mimetype": "text/x-python",
   "name": "python",
   "nbconvert_exporter": "python",
   "pygments_lexer": "ipython3",
   "version": "3.11.7"
  }
 },
 "nbformat": 4,
 "nbformat_minor": 5
}
