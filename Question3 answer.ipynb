{
 "cells": [
  {
   "cell_type": "markdown",
   "metadata": {
    "id": "7rMJIubZGObP"
   },
   "source": [
    "#### Multiply 10 with 5, and print the result.\n",
    "\n"
   ]
  },
  {
   "cell_type": "code",
   "execution_count": 1,
   "metadata": {
    "colab": {
     "base_uri": "https://localhost:8080/"
    },
    "id": "2843Doa0_AX1",
    "outputId": "0f515442-6333-41d0-8d70-4a183301ed79"
   },
   "outputs": [
    {
     "name": "stdout",
     "output_type": "stream",
     "text": [
      "50\n"
     ]
    }
   ],
   "source": [
    "print(10*5)"
   ]
  },
  {
   "cell_type": "markdown",
   "metadata": {
    "id": "Mucrs9f5GYw3"
   },
   "source": [
    "### Divide 10 by 2, and print the result.\n",
    "\n"
   ]
  },
  {
   "cell_type": "code",
   "execution_count": 2,
   "metadata": {
    "colab": {
     "base_uri": "https://localhost:8080/"
    },
    "id": "hVldbw40_yDD",
    "outputId": "c718c101-3661-47a5-e869-166b62aa22d8"
   },
   "outputs": [
    {
     "name": "stdout",
     "output_type": "stream",
     "text": [
      "2.0\n"
     ]
    }
   ],
   "source": [
    "print(10/5)"
   ]
  },
  {
   "cell_type": "markdown",
   "metadata": {
    "id": "GhvrFFPxGkLF"
   },
   "source": [
    "### Use the correct membership operator to check if \"apple\" is present in the fruits object.\n",
    "\n"
   ]
  },
  {
   "cell_type": "code",
   "execution_count": 7,
   "metadata": {
    "colab": {
     "base_uri": "https://localhost:8080/"
    },
    "id": "vFBz2ie__1AH",
    "outputId": "13988565-80f0-4022-9c6a-6df05fce8b0c"
   },
   "outputs": [
    {
     "name": "stdout",
     "output_type": "stream",
     "text": [
      "Yes ,apple in a fruit!\n"
     ]
    }
   ],
   "source": [
    "fruits=[\"apple\",\"banana\"]\n",
    "if \"apple\" in fruits:\n",
    "  print(\"Yes ,apple in a fruit!\")"
   ]
  },
  {
   "cell_type": "markdown",
   "metadata": {
    "id": "71TfNEQxGuNw"
   },
   "source": [
    "### Use the correct comparison operator to check if 5 is `not equal` to 10.\n",
    "\n"
   ]
  },
  {
   "cell_type": "code",
   "execution_count": 8,
   "metadata": {
    "colab": {
     "base_uri": "https://localhost:8080/"
    },
    "id": "uTsiiHU8AFk1",
    "outputId": "fb1341a9-a26c-458b-d309-5fdf8f89f931"
   },
   "outputs": [
    {
     "name": "stdout",
     "output_type": "stream",
     "text": [
      " 5 and 10 is not equal\n"
     ]
    }
   ],
   "source": [
    "if 5!=10:\n",
    "  print(\" 5 and 10 is not equal\")"
   ]
  },
  {
   "cell_type": "markdown",
   "metadata": {
    "id": "_cqga3VjG9jJ"
   },
   "source": [
    "### Use the correct logical operator to check if at least one of two statements is `True`.\n",
    "\n"
   ]
  },
  {
   "cell_type": "code",
   "execution_count": 9,
   "metadata": {
    "colab": {
     "base_uri": "https://localhost:8080/"
    },
    "id": "0OJeTboIAR_m",
    "outputId": "de2ea5f3-99f9-46b9-c863-3e44bd63d51f"
   },
   "outputs": [
    {
     "name": "stdout",
     "output_type": "stream",
     "text": [
      "The statements is true \n"
     ]
    }
   ],
   "source": [
    "if 5==10 or 4==4:\n",
    "  print(\"The statements is true \")"
   ]
  },
  {
   "cell_type": "markdown",
   "metadata": {
    "id": "gvFm9RC4H2BJ"
   },
   "source": [
    "### Print the second item in the fruits list.\n",
    "\n"
   ]
  },
  {
   "cell_type": "code",
   "execution_count": 10,
   "metadata": {
    "colab": {
     "base_uri": "https://localhost:8080/"
    },
    "id": "rvES3ZDVAdfu",
    "outputId": "240437ac-6895-4a8f-9142-1b7f711a82ed"
   },
   "outputs": [
    {
     "name": "stdout",
     "output_type": "stream",
     "text": [
      "banana\n"
     ]
    }
   ],
   "source": [
    "fruits=[\"apple\",\"banana\",\"cherry\"]\n",
    "print(fruits[1])\n"
   ]
  },
  {
   "cell_type": "markdown",
   "metadata": {
    "id": "_o7i99HGICNC"
   },
   "source": [
    "### Change the value from \"apple\" to \"kiwi\", in the fruits list.\n",
    "\n"
   ]
  },
  {
   "cell_type": "code",
   "execution_count": 11,
   "metadata": {
    "colab": {
     "base_uri": "https://localhost:8080/"
    },
    "id": "8rtfLJJ0Amng",
    "outputId": "6d4916db-2606-49c0-b529-f6ffdacde1c1"
   },
   "outputs": [
    {
     "name": "stdout",
     "output_type": "stream",
     "text": [
      "['kiwi', 'banana', 'cherry']\n"
     ]
    }
   ],
   "source": [
    "fruits=[\"apple\",\"banana\",\"cherry\"]\n",
    "fruits[0]=\"kiwi\"\n",
    "print(fruits)"
   ]
  },
  {
   "cell_type": "markdown",
   "metadata": {
    "id": "Wxi383HNILra"
   },
   "source": [
    "### Use the append method to add \"orange\" to the fruits list.\n",
    "\n"
   ]
  },
  {
   "cell_type": "code",
   "execution_count": 13,
   "metadata": {
    "id": "lIXpfwndAzbD"
   },
   "outputs": [],
   "source": [
    "fruits.append(\"orange\")"
   ]
  },
  {
   "cell_type": "code",
   "execution_count": 14,
   "metadata": {
    "colab": {
     "base_uri": "https://localhost:8080/"
    },
    "id": "kGxtbwKaA5Ru",
    "outputId": "6db434e9-172e-49bf-c055-8f07848491e0"
   },
   "outputs": [
    {
     "name": "stdout",
     "output_type": "stream",
     "text": [
      "['kiwi', 'banana', 'cherry', 'orange']\n"
     ]
    }
   ],
   "source": [
    "print(fruits)"
   ]
  },
  {
   "cell_type": "markdown",
   "metadata": {
    "id": "z6tv8q6zIUjZ"
   },
   "source": [
    "### Use the insert method to add \"lemon\" as the second item in the fruits list.\n",
    "\n"
   ]
  },
  {
   "cell_type": "code",
   "execution_count": 16,
   "metadata": {
    "colab": {
     "base_uri": "https://localhost:8080/"
    },
    "id": "cX5UTXlQB97-",
    "outputId": "a81cab3e-c44c-4dbc-8088-605ae8bd2948"
   },
   "outputs": [
    {
     "name": "stdout",
     "output_type": "stream",
     "text": [
      "['apple', 'lemon', 'banana', 'cherry']\n"
     ]
    }
   ],
   "source": [
    "fruits=[\"apple\",\"banana\",\"cherry\"]\n",
    "fruits.insert(1,\"lemon\")\n",
    "print(fruits)"
   ]
  },
  {
   "cell_type": "markdown",
   "metadata": {
    "id": "CsyceyyBIiSw"
   },
   "source": [
    "### Use the remove method to remove `\"banana\"` from the fruits list.\n",
    "\n"
   ]
  },
  {
   "cell_type": "code",
   "execution_count": 18,
   "metadata": {
    "colab": {
     "base_uri": "https://localhost:8080/"
    },
    "id": "Wk9ed0JjCIvA",
    "outputId": "b03f99d9-6294-4206-f4ae-3019e48126b9"
   },
   "outputs": [
    {
     "name": "stdout",
     "output_type": "stream",
     "text": [
      "['apple', 'cherry']\n"
     ]
    }
   ],
   "source": [
    "fruits=[\"apple\",\"banana\",\"cherry\"]\n",
    "fruits.remove(\"banana\")\n",
    "print(fruits)"
   ]
  },
  {
   "cell_type": "markdown",
   "metadata": {
    "id": "0fbTHlYrIrwY"
   },
   "source": [
    "### Use negative indexing to print the last item in the list.\n",
    "\n"
   ]
  },
  {
   "cell_type": "code",
   "execution_count": 19,
   "metadata": {
    "colab": {
     "base_uri": "https://localhost:8080/"
    },
    "id": "KaeRgfuGCVk8",
    "outputId": "19b5a659-d7c6-48c8-b96d-88bca5c33799"
   },
   "outputs": [
    {
     "name": "stdout",
     "output_type": "stream",
     "text": [
      "cherry\n"
     ]
    }
   ],
   "source": [
    "fruits=[\"apple\",\"banana\",\"cherry\"]\n",
    "print(fruits[-1])"
   ]
  },
  {
   "cell_type": "markdown",
   "metadata": {
    "id": "rR3ORmMVI55Z"
   },
   "source": [
    "### Use a range of indexes to print the third, fourth, and fifth item in the list.\n",
    "\n"
   ]
  },
  {
   "cell_type": "code",
   "execution_count": 21,
   "metadata": {
    "colab": {
     "base_uri": "https://localhost:8080/"
    },
    "id": "PN4AXroKCcmw",
    "outputId": "edc7043d-f8af-4dd5-97a0-ad8d6c2d6197"
   },
   "outputs": [
    {
     "name": "stdout",
     "output_type": "stream",
     "text": [
      "['apple', 'banana', 'cherry']\n"
     ]
    }
   ],
   "source": [
    "fruits=[\"apple\",\"banana\",\"apple\",\"banana\",\"cherry\",\"banana\"]\n",
    "print(fruits[2:5])"
   ]
  },
  {
   "cell_type": "markdown",
   "metadata": {
    "id": "tc0ZAGQ2JfM9"
   },
   "source": [
    "### Use the correct syntax to print the number of items in the list.\n",
    "\n"
   ]
  },
  {
   "cell_type": "code",
   "execution_count": 22,
   "metadata": {
    "colab": {
     "base_uri": "https://localhost:8080/"
    },
    "id": "JnlPQPPHCxAO",
    "outputId": "c7f72a96-31fc-4364-e29f-cd23591e78bd"
   },
   "outputs": [
    {
     "data": {
      "text/plain": [
       "6"
      ]
     },
     "execution_count": 22,
     "metadata": {},
     "output_type": "execute_result"
    }
   ],
   "source": [
    "len(fruits)"
   ]
  },
  {
   "cell_type": "markdown",
   "metadata": {
    "id": "feYJq0vYKe1S"
   },
   "source": [
    "### Write a Python program to print all even numbers from a given list of numbers in the same order and stop printing any after 237 in the sequence."
   ]
  },
  {
   "cell_type": "markdown",
   "metadata": {
    "id": "ec1qLM7DKnea"
   },
   "source": [
    "#### numbers = [    \n",
    "    386, 462, 47, 418, 907, 344, 236, 375, 823, 566, 597, 978, 328, 615, 953, 345,\n",
    "    399, 162, 758, 219, 918, 237, 412, 566, 826, 248, 866, 950, 626, 949, 687, 217,\n",
    "    815, 67, 104, 58, 512, 24, 892, 894, 767, 553, 81, 379, 843, 831, 445, 742, 717,\n",
    "    958,743, 527\n",
    "    ]"
   ]
  },
  {
   "cell_type": "code",
   "execution_count": 37,
   "metadata": {
    "id": "JEe31Oq4G6Cf"
   },
   "outputs": [],
   "source": [
    "x=[1,3,5,6,7,9]"
   ]
  },
  {
   "cell_type": "code",
   "execution_count": 40,
   "metadata": {
    "colab": {
     "base_uri": "https://localhost:8080/",
     "height": 141
    },
    "id": "5yLUHTjzG_qY",
    "outputId": "482202d6-6834-4f1c-ca8b-eaf9ba49b66d"
   },
   "outputs": [
    {
     "ename": "IndexError",
     "evalue": "list index out of range",
     "output_type": "error",
     "traceback": [
      "\u001b[0;31m---------------------------------------------------------------------------\u001b[0m",
      "\u001b[0;31mIndexError\u001b[0m                                Traceback (most recent call last)",
      "\u001b[0;32m<ipython-input-40-04aa5bc9ecce>\u001b[0m in \u001b[0;36m<cell line: 1>\u001b[0;34m()\u001b[0m\n\u001b[0;32m----> 1\u001b[0;31m \u001b[0mx\u001b[0m\u001b[0;34m[\u001b[0m\u001b[0;36m6\u001b[0m\u001b[0;34m]\u001b[0m\u001b[0;34m\u001b[0m\u001b[0;34m\u001b[0m\u001b[0m\n\u001b[0m",
      "\u001b[0;31mIndexError\u001b[0m: list index out of range"
     ]
    }
   ],
   "source": [
    "x[6]"
   ]
  },
  {
   "cell_type": "code",
   "execution_count": 38,
   "metadata": {
    "colab": {
     "base_uri": "https://localhost:8080/"
    },
    "id": "gA7OmCP4G8TM",
    "outputId": "efb6d62f-10af-47dc-dde1-c304ac020fcc"
   },
   "outputs": [
    {
     "data": {
      "text/plain": [
       "6"
      ]
     },
     "execution_count": 38,
     "metadata": {},
     "output_type": "execute_result"
    }
   ],
   "source": [
    "len(x)"
   ]
  },
  {
   "cell_type": "code",
   "execution_count": 53,
   "metadata": {
    "colab": {
     "base_uri": "https://localhost:8080/"
    },
    "id": "I4LlrSU8FM7J",
    "outputId": "8ee867ea-2087-480c-c538-835233033fec"
   },
   "outputs": [
    {
     "name": "stdout",
     "output_type": "stream",
     "text": [
      "386\n",
      "462\n",
      "47\n"
     ]
    }
   ],
   "source": [
    "numbers = [\n",
    "    386, 462, 47, 418, 907, 344, 236, 375, 823, 566, 597, 978, 328, 615, 953, 345,\n",
    "    399, 162, 758, 219, 918, 237, 412, 566, 826, 248, 866, 950, 626, 949, 687, 217,\n",
    "    815, 67, 104, 58, 512, 24, 892, 894, 767, 553, 81, 379, 843, 831, 445, 742, 717,\n",
    "    958,743, 527\n",
    "    ]\n",
    "# for x in numbers:\n",
    "#   if x==237:\n",
    "#     break\n",
    "#   elif x%2 ==0:\n",
    "#     print(x)\n",
    "# for  x in range(len(numbers)):\n",
    "#   if numbers[x]==237:\n",
    "#     break\n",
    "#   elif x%2==0:\n",
    "#     print(numbers[x])\n",
    "\n",
    "index=0\n",
    "while numbers[index] !=237:\n",
    "  if numbers[index]==418:\n",
    "    break\n",
    "  else:\n",
    "    print(numbers[index])\n",
    "  index+=1\n"
   ]
  },
  {
   "cell_type": "markdown",
   "metadata": {
    "id": "FX6mi5tqLb5J"
   },
   "source": [
    "### Write a Python program that will accept the base and height of a triangle and compute its area.\n",
    "\n"
   ]
  },
  {
   "cell_type": "markdown",
   "metadata": {
    "id": "mt1FKNPYLN0I"
   },
   "source": [
    "<img src=\"https://www.w3resource.com/w3r_images/python-area-triangle-basic-exercise-30.png\" alt=\"Girl in a jacket\" width=\"500\" height=\"600\">\n"
   ]
  },
  {
   "cell_type": "code",
   "execution_count": 55,
   "metadata": {
    "colab": {
     "base_uri": "https://localhost:8080/"
    },
    "id": "8thTaXfTKPKV",
    "outputId": "f962395e-4b73-4fe4-b6ed-846d0a182fa4"
   },
   "outputs": [
    {
     "name": "stdout",
     "output_type": "stream",
     "text": [
      "Input the base : 10\n",
      "Input the base : 20\n",
      "area =  100.0\n"
     ]
    }
   ],
   "source": [
    "def calaculate_triangle_area(base,height):\n",
    "  return 0.5 * base * height\n",
    "b= int(input(\"Input the base : \"))\n",
    "h= int(input(\"Input the base : \"))\n",
    "area=calaculate_triangle_area(b,h)\n",
    "print(\"area = \",area)"
   ]
  },
  {
   "cell_type": "markdown",
   "metadata": {
    "id": "tP7gY2ZCPxnU"
   },
   "source": [
    "### Sort three integers without using conditional statements\n",
    "\n"
   ]
  },
  {
   "cell_type": "markdown",
   "metadata": {
    "id": "Xwy7VRdJPtxN"
   },
   "source": [
    "<img src=\"https://www.w3resource.com/w3r_images/python-basic-image-exercise-69.png\" alt=\"Girl in a jacket\" width=\"500\" height=\"600\">\n"
   ]
  },
  {
   "cell_type": "code",
   "execution_count": 2,
   "metadata": {
    "id": "hO1deC0xLEJN"
   },
   "outputs": [],
   "source": [
    "def add(n,n1,n3):\n",
    "  print(n+n1)\n",
    "  return n ,n1,n3\n"
   ]
  },
  {
   "cell_type": "code",
   "execution_count": 3,
   "metadata": {
    "colab": {
     "base_uri": "https://localhost:8080/"
    },
    "id": "GoUR_1Y-Lsi0",
    "outputId": "e4b79b8f-17e7-48e3-b3e0-f23b0a1fb9a8"
   },
   "outputs": [
    {
     "name": "stdout",
     "output_type": "stream",
     "text": [
      "21\n"
     ]
    }
   ],
   "source": [
    "a1,a2,a3=add(10,11,12)"
   ]
  },
  {
   "cell_type": "code",
   "execution_count": 11,
   "metadata": {
    "colab": {
     "base_uri": "https://localhost:8080/",
     "height": 141
    },
    "id": "AK685w00QwHo",
    "outputId": "7c5d7ede-0b70-464e-89fa-b6d24d1c10ad"
   },
   "outputs": [
    {
     "ename": "NameError",
     "evalue": "name 'n' is not defined",
     "output_type": "error",
     "traceback": [
      "\u001b[0;31m---------------------------------------------------------------------------\u001b[0m",
      "\u001b[0;31mNameError\u001b[0m                                 Traceback (most recent call last)",
      "\u001b[0;32m<ipython-input-11-349653be3a92>\u001b[0m in \u001b[0;36m<cell line: 1>\u001b[0;34m()\u001b[0m\n\u001b[0;32m----> 1\u001b[0;31m \u001b[0mprint\u001b[0m\u001b[0;34m(\u001b[0m\u001b[0mn\u001b[0m\u001b[0;34m)\u001b[0m\u001b[0;34m\u001b[0m\u001b[0;34m\u001b[0m\u001b[0m\n\u001b[0m",
      "\u001b[0;31mNameError\u001b[0m: name 'n' is not defined"
     ]
    }
   ],
   "source": [
    "print(n)"
   ]
  },
  {
   "cell_type": "code",
   "execution_count": 5,
   "metadata": {
    "colab": {
     "base_uri": "https://localhost:8080/"
    },
    "id": "ZuXhnWTqLyI6",
    "outputId": "64a6cb7e-2e97-4ec6-8ed1-a7e0aed02f76"
   },
   "outputs": [
    {
     "name": "stdout",
     "output_type": "stream",
     "text": [
      "10\n"
     ]
    }
   ],
   "source": [
    "print(a1)"
   ]
  },
  {
   "cell_type": "code",
   "execution_count": 12,
   "metadata": {
    "colab": {
     "base_uri": "https://localhost:8080/"
    },
    "id": "Q61FnclmRUfE",
    "outputId": "15672423-87a4-4be5-9032-471243be9274"
   },
   "outputs": [
    {
     "name": "stdout",
     "output_type": "stream",
     "text": [
      "Input first number: 10\n",
      "Input second number :20\n",
      "Input  thrid number :30\n"
     ]
    }
   ],
   "source": [
    "x=int(input(\"Input first number: \"))\n",
    "y=int(input(\"Input second number :\"))\n",
    "z=int(input(\"Input  thrid number :\"))\n",
    "def sort_numbers(x,y,z):\n",
    "  a1=min(x,y,z)\n",
    "  a3=max(x,y,z)\n",
    "  a2=(x+y+z)-a1-a3\n",
    "  return a1,a2,a3\n",
    "sort_numbers()"
   ]
  },
  {
   "cell_type": "code",
   "execution_count": 10,
   "metadata": {
    "colab": {
     "base_uri": "https://localhost:8080/",
     "height": 87
    },
    "id": "OF-5CpXQL4fO",
    "outputId": "89909923-2031-4cfb-cfee-a5280775171e"
   },
   "outputs": [
    {
     "name": "stdout",
     "output_type": "stream",
     "text": [
      "Input first number: 10\n",
      "Input second number :20\n",
      "Input  thrid number :30\n"
     ]
    },
    {
     "data": {
      "application/vnd.google.colaboratory.intrinsic+json": {
       "type": "string"
      },
      "text/plain": [
       "' 10 20 30'"
      ]
     },
     "execution_count": 10,
     "metadata": {},
     "output_type": "execute_result"
    }
   ],
   "source": [
    "# x=int(input(\"Input first number: \"))\n",
    "# y=int(input(\"Input second number :\"))\n",
    "# z=int(input(\"Input  thrid number :\"))\n",
    "# def sort_numbers(x,y,z):\n",
    "#   a1=min(x,y,z)\n",
    "#   a3=max(x,y,z)\n",
    "#   a2=(x+y+z)-a1-a3\n",
    "#   return a1,a2,a3\n",
    "# nm1,num_2,num_3=sort_numbers(x,y,z)\n",
    "# print(\"Number in sorted order\",nm1,num_2,num_3)\n",
    "\n",
    "x=int(input(\"Input first number: \"))\n",
    "y=int(input(\"Input second number :\"))\n",
    "z=int(input(\"Input  thrid number :\"))\n",
    "def sort_numbers(x,y,z):\n",
    "  a1=min(x,y,z)\n",
    "  a3=max(x,y,z)\n",
    "  a2=(x+y+z)-a1-a3\n",
    "  return f\" {a1} {a2} {a3}\"\n",
    "sort_numbers(x,y,z)\n"
   ]
  },
  {
   "cell_type": "markdown",
   "metadata": {
    "id": "zNKNtPGrRbvr"
   },
   "source": [
    "\n",
    "### Sort three integers :using conditional statements\n",
    "\n",
    "\n",
    "\n"
   ]
  },
  {
   "cell_type": "code",
   "execution_count": 56,
   "metadata": {},
   "outputs": [
    {
     "name": "stdout",
     "output_type": "stream",
     "text": [
      "[2, 7, 11]\n"
     ]
    }
   ],
   "source": [
    "x=[11,2,7]\n",
    "if x[0]<x[1] and x[0]<x[2]:\n",
    "    if x[1]<x[2]:\n",
    "        y=[x[0],x[1],x[2]]\n",
    "    else:\n",
    "        y=[x[0],x[2],x[1]]\n",
    "else:\n",
    "    if x[1]<x[0] and x[1]<x[2]:\n",
    "        if x[0]<x[2]:\n",
    "             y=[x[1],x[0],x[2]]\n",
    "        else:\n",
    "            y=[x[1],x[2],x[0]]\n",
    "    else:\n",
    "        if x[2]<x[0] and x[2]<x[1]:\n",
    "            if x[0]<x[1]:\n",
    "                y=[x[2],x[0],x[1]]\n",
    "            else:\n",
    "                y=[x[2],x[1],x[0]]\n",
    "print(y)"
   ]
  },
  {
   "cell_type": "markdown",
   "metadata": {
    "id": "nn6opiI8Uj1-"
   },
   "source": [
    "#### Write a Python function that takes a sequence of numbers and determines whether all the numbers are different from each other."
   ]
  },
  {
   "cell_type": "markdown",
   "metadata": {
    "id": "9LQTVtiGVJ9r"
   },
   "source": [
    "<img src=\"https://www.w3resource.com/w3r_images/python-basic-1-image-exercise-1.png\" alt=\"Girl in a jacket\" width=\"500\" height=\"600\">\n"
   ]
  },
  {
   "cell_type": "code",
   "execution_count": 5,
   "metadata": {
    "colab": {
     "base_uri": "https://localhost:8080/"
    },
    "id": "q0JwfYiKS9_d",
    "outputId": "0ecdd5c8-441b-4ea0-deee-56649dd87bd0"
   },
   "outputs": [
    {
     "name": "stdout",
     "output_type": "stream",
     "text": [
      "Enter len of list :\n",
      "4\n",
      "Enter  number :\t1\n",
      "Enter  number :\t1\n",
      "Enter  number :\t2\n",
      "Enter  number :\t3\n",
      "4 3\n",
      "False\n"
     ]
    }
   ],
   "source": [
    "z=[]\n",
    "y=int(input(\"Enter len of list :\\n\"))\n",
    "for i in range(y):\n",
    "  x=float(input(\"Enter  number :\\t\"))\n",
    "  z.append(x)\n",
    "print(len(z),len(set(z)))\n",
    "if len(z)==len(set(z)):\n",
    "  print(\"True\")\n",
    "else:\n",
    "  print(\"False\")"
   ]
  },
  {
   "cell_type": "markdown",
   "metadata": {
    "id": "HHNeCzCWa3lx"
   },
   "source": [
    "#### Dictionary"
   ]
  },
  {
   "cell_type": "code",
   "execution_count": null,
   "metadata": {
    "colab": {
     "base_uri": "https://localhost:8080/"
    },
    "id": "WOrfDlTla-Lf",
    "outputId": "76889e97-c736-490b-d105-61ee74cfb137"
   },
   "outputs": [
    {
     "data": {
      "text/plain": [
       "['a', 'b', 'c']"
      ]
     },
     "execution_count": 27,
     "metadata": {},
     "output_type": "execute_result"
    }
   ],
   "source": [
    "dict1 = {'a': 100, 'b': 200, 'c': 300}\n",
    "list(dict1.keys())"
   ]
  },
  {
   "cell_type": "code",
   "execution_count": null,
   "metadata": {
    "colab": {
     "base_uri": "https://localhost:8080/"
    },
    "id": "DAdr9gOQbDng",
    "outputId": "578f6680-f1e7-49cb-eaa0-bec2445dde2d"
   },
   "outputs": [
    {
     "data": {
      "text/plain": [
       "[200, 300]"
      ]
     },
     "execution_count": 28,
     "metadata": {},
     "output_type": "execute_result"
    }
   ],
   "source": [
    "dict1 = {'a': 100, 'a': 200, 'c': 300}\n",
    "list(dict1.values())"
   ]
  },
  {
   "cell_type": "code",
   "execution_count": null,
   "metadata": {
    "colab": {
     "base_uri": "https://localhost:8080/"
    },
    "id": "XzjcaUpqbMGc",
    "outputId": "f18592a5-dee7-41ae-8f01-621dc6a44b0f"
   },
   "outputs": [
    {
     "data": {
      "text/plain": [
       "[('a', 200), ('c', 300)]"
      ]
     },
     "execution_count": 29,
     "metadata": {},
     "output_type": "execute_result"
    }
   ],
   "source": [
    "dict1 = {'a': 100, 'a': 200, 'c': 300}\n",
    "list(dict1.items())"
   ]
  },
  {
   "cell_type": "markdown",
   "metadata": {
    "id": "6c1ld1XoZ_RK"
   },
   "source": [
    "```\n",
    "Input : {‘a’: 100, ‘b’:200, ‘c’:300}\n",
    "```\n",
    "Output : 600\n",
    "```\n",
    "# Input : {‘x’: 25, ‘y’:18, ‘z’:45}\n",
    "\n",
    "```\n",
    "Output : 88"
   ]
  },
  {
   "cell_type": "code",
   "execution_count": null,
   "metadata": {
    "colab": {
     "base_uri": "https://localhost:8080/"
    },
    "id": "tXhL4XGdR6oE",
    "outputId": "47586d5b-1486-4989-d409-5f9b53d066f6"
   },
   "outputs": [
    {
     "data": {
      "text/plain": [
       "15"
      ]
     },
     "execution_count": 30,
     "metadata": {},
     "output_type": "execute_result"
    }
   ],
   "source": [
    "sum([0,1,2,3,4,5])\n",
    "sum((0,1,2,3,4,5))\n",
    "sum({0,1,2,3,4,5})\n",
    "sum({5:5,10:11})"
   ]
  },
  {
   "cell_type": "markdown",
   "metadata": {
    "id": "6BJBp-omBEnB"
   },
   "source": [
    "### Python program to find the sum of all values in a dictionary\n"
   ]
  },
  {
   "cell_type": "code",
   "execution_count": 7,
   "metadata": {},
   "outputs": [
    {
     "name": "stdout",
     "output_type": "stream",
     "text": [
      "45\n"
     ]
    }
   ],
   "source": [
    "x={\"key1\":5,\"key2\":10,\"key3\":15,\"key4\":15}\n",
    "a=list(x.values())\n",
    "m=0\n",
    "for i in range(len(a)):\n",
    "    m=m+a[i]\n",
    "print(m)\n",
    "    "
   ]
  },
  {
   "cell_type": "markdown",
   "metadata": {
    "id": "LcvPYHMNb3KI"
   },
   "source": [
    "### Filter the negative values from given dictionary"
   ]
  },
  {
   "cell_type": "code",
   "execution_count": 19,
   "metadata": {},
   "outputs": [
    {
     "name": "stdout",
     "output_type": "stream",
     "text": [
      "{'key1': 5, 'key2': 10, 'key4': 15}\n"
     ]
    }
   ],
   "source": [
    "x={\"key1\":5,\"key2\":10,\"key3\":-15,\"key4\":15}\n",
    "for k in list(x):\n",
    "    if x[k] <0:\n",
    "        del x[k]\n",
    "print(x)"
   ]
  },
  {
   "cell_type": "markdown",
   "metadata": {
    "id": "zIj0KxvgIO58"
   },
   "source": [
    "### Test if all Values are Same in Dictionary"
   ]
  },
  {
   "cell_type": "code",
   "execution_count": 26,
   "metadata": {},
   "outputs": [
    {
     "name": "stdout",
     "output_type": "stream",
     "text": [
      "value equal\n"
     ]
    }
   ],
   "source": [
    "x={\"key1\":5,\"key2\":5,\"key3\":5,\"key4\":5}\n",
    "k=list(x)\n",
    "c=0\n",
    "for i in list(x):\n",
    "    if x[k[0]]==x[i]:\n",
    "        pass\n",
    "    else:\n",
    "        c=1\n",
    "if c==1 :\n",
    "    print(\"value not equal\")\n",
    "else:\n",
    "        print(\"value equal\")\n"
   ]
  },
  {
   "cell_type": "markdown",
   "metadata": {
    "id": "-aCAiR5mktpN"
   },
   "source": [
    "### test_dict = {\"Gfg\": 8, \"is\": 5, \"Best\": 5}\n",
    "### False"
   ]
  },
  {
   "cell_type": "markdown",
   "metadata": {
    "id": "PG5Z5JNJMLTi"
   },
   "source": [
    "# `any`"
   ]
  },
  {
   "cell_type": "code",
   "execution_count": null,
   "metadata": {
    "colab": {
     "base_uri": "https://localhost:8080/"
    },
    "id": "42838XSZMPoh",
    "outputId": "e8cb1f25-4cfb-4b2e-b77a-b3f6d8d33348"
   },
   "outputs": [
    {
     "name": "stdout",
     "output_type": "stream",
     "text": [
      "True\n"
     ]
    }
   ],
   "source": [
    "mylist = [False, True, False]\n",
    "x = any(mylist)\n",
    "print(x)\n"
   ]
  },
  {
   "cell_type": "code",
   "execution_count": null,
   "metadata": {
    "colab": {
     "base_uri": "https://localhost:8080/"
    },
    "id": "jMcpwFY0MonY",
    "outputId": "b938cb79-c73e-452c-cc21-80b614560020"
   },
   "outputs": [
    {
     "name": "stdout",
     "output_type": "stream",
     "text": [
      "True\n"
     ]
    }
   ],
   "source": [
    "mydict = {0 : \"Apple\", 1 : \"Orange\"}\n",
    "x = any(mydict)\n",
    "print(x)"
   ]
  },
  {
   "cell_type": "code",
   "execution_count": null,
   "metadata": {
    "colab": {
     "base_uri": "https://localhost:8080/"
    },
    "id": "sDyzrjk5MuOl",
    "outputId": "1a49c77a-6951-44f0-e799-1c77bf610544"
   },
   "outputs": [
    {
     "name": "stdout",
     "output_type": "stream",
     "text": [
      "False\n"
     ]
    }
   ],
   "source": [
    "mydict = {0 : \"Apple\", 0 : True}\n",
    "x = any(mydict)\n",
    "print(x)"
   ]
  },
  {
   "cell_type": "markdown",
   "metadata": {
    "id": "hrg9MKDKMb0Y"
   },
   "source": [
    "#### <font color='gold'>Note: When used on a dictionary, the any() function checks if any of the keys are true, not the values.</font>\n",
    "\n",
    "\n"
   ]
  },
  {
   "cell_type": "markdown",
   "metadata": {
    "id": "RXYELJ29BVOm"
   },
   "source": [
    "### Test if vlaue input  in dictionary value"
   ]
  },
  {
   "cell_type": "code",
   "execution_count": 53,
   "metadata": {},
   "outputs": [
    {
     "name": "stdout",
     "output_type": "stream",
     "text": [
      "insert the required value  15\n",
      "the value in dic\n"
     ]
    }
   ],
   "source": [
    "x={\"key1\":5,\"key2\":10,\"key3\":15,\"key4\":15}\n",
    "y=list(x.values())\n",
    "m=int(input(\"insert the required value  \"))\n",
    "v=0\n",
    "for i in range(len(y)):\n",
    "    if m==y[i]:\n",
    "        v=1\n",
    "        break\n",
    "    else:\n",
    "        pass\n",
    "if v==1:\n",
    "    print(\"the value in dic\")\n",
    "else:\n",
    "    print(\"the value not in dic\")\n"
   ]
  },
  {
   "cell_type": "markdown",
   "metadata": {
    "id": "3GT4F80UOaTa"
   },
   "source": [
    "### Calculate the sum of all numbers from 0 to a given number"
   ]
  },
  {
   "cell_type": "code",
   "execution_count": 49,
   "metadata": {},
   "outputs": [
    {
     "name": "stdout",
     "output_type": "stream",
     "text": [
      "insert the number  5\n",
      "15\n"
     ]
    }
   ],
   "source": [
    "x=int(input(\"insert the number  \"))\n",
    "m=0\n",
    "for i in range(x+1):\n",
    "    m=m+i\n",
    "print(m)"
   ]
  },
  {
   "cell_type": "markdown",
   "metadata": {
    "id": "1tHglDPNUT5J"
   },
   "source": [
    "### Find the factorial of a given number using while loop"
   ]
  },
  {
   "cell_type": "code",
   "execution_count": 66,
   "metadata": {},
   "outputs": [
    {
     "name": "stdout",
     "output_type": "stream",
     "text": [
      "6\n",
      "5\n",
      "4\n",
      "3\n",
      "2\n",
      "1\n",
      "5040\n"
     ]
    }
   ],
   "source": [
    "i=7 # the number\n",
    "m=i\n",
    "while i>1:\n",
    "    m=m*(i-1)\n",
    "    i=i-1\n",
    "print(m)\n",
    "    "
   ]
  },
  {
   "cell_type": "markdown",
   "metadata": {
    "id": "QT1487BDVCIU"
   },
   "source": [
    "#### For example: calculate the factorial of 5\n",
    "\n"
   ]
  },
  {
   "cell_type": "markdown",
   "metadata": {
    "id": "FCTJ9pt_VE-y"
   },
   "source": [
    "\n",
    "\n",
    "```\n",
    "# 5! = 5 × 4 × 3 × 2 × 1 = 120\n",
    "\n",
    "```\n",
    "\n"
   ]
  },
  {
   "cell_type": "markdown",
   "metadata": {
    "id": "q_f9IMbDYkLm"
   },
   "source": [
    "### Use a loop to display elements from a given list present at odd index positions"
   ]
  },
  {
   "cell_type": "markdown",
   "metadata": {
    "id": "Q9gHbx7XZBFc"
   },
   "source": [
    "```\n",
    "my_list = [10, 20, 30, 40, 50, 60, 70, 80, 90, 100]\n",
    "Expected output:\n",
    "20 40 60 80 100\n",
    "```\n",
    "\n"
   ]
  },
  {
   "cell_type": "markdown",
   "metadata": {
    "id": "otJlQghGZZnk"
   },
   "source": [
    "### Calculate the cube of all numbers from 1 to a given number"
   ]
  },
  {
   "cell_type": "markdown",
   "metadata": {
    "id": "NRZ3LLaUmtQu"
   },
   "source": [
    "### len of str in list\n",
    "### ['apple', 'orange', 'cat']"
   ]
  },
  {
   "cell_type": "code",
   "execution_count": null,
   "metadata": {
    "colab": {
     "base_uri": "https://localhost:8080/"
    },
    "id": "bIhFj4Q8ZlrW",
    "outputId": "c7a2f25b-b6c4-4289-a9c3-91b8504ed81a"
   },
   "outputs": [
    {
     "name": "stdout",
     "output_type": "stream",
     "text": [
      "[5, 6, 3]\n"
     ]
    }
   ],
   "source": [
    "l = ['apple', 'orange', 'cat']\n",
    "print([ len(i) for i in l])\n"
   ]
  },
  {
   "cell_type": "markdown",
   "metadata": {
    "id": "V05BjYlMeMjZ"
   },
   "source": [
    "### program to count number of vowels using sets in given string\n"
   ]
  },
  {
   "cell_type": "markdown",
   "metadata": {
    "id": "rdIZGB8kgcMQ"
   },
   "source": [
    "\n",
    "### Write a Python program to add an item to a tuple."
   ]
  },
  {
   "cell_type": "code",
   "execution_count": 48,
   "metadata": {},
   "outputs": [
    {
     "name": "stdout",
     "output_type": "stream",
     "text": [
      "(1, 2, 3, 5, 9, 10)\n"
     ]
    }
   ],
   "source": [
    "x=(1,2,3,5,9)\n",
    "y=list(x)\n",
    "y.append(10)\n",
    "m=tuple(y)\n",
    "print(m)"
   ]
  },
  {
   "cell_type": "markdown",
   "metadata": {
    "id": "NpZ-cEhZkSlO"
   },
   "source": [
    "### Write a Python program to multiply all the items in a list."
   ]
  },
  {
   "cell_type": "code",
   "execution_count": 41,
   "metadata": {},
   "outputs": [
    {
     "name": "stdout",
     "output_type": "stream",
     "text": [
      "270\n"
     ]
    }
   ],
   "source": [
    "x=[1,2,3,5,9]\n",
    "m=1\n",
    "for i in range(len(x)):\n",
    "    m=m*x[i]\n",
    "print(m)"
   ]
  },
  {
   "cell_type": "markdown",
   "metadata": {
    "id": "2fwBrTI1k1XG"
   },
   "source": [
    "### Write a Python program to get the smallest number from a list."
   ]
  },
  {
   "cell_type": "code",
   "execution_count": 39,
   "metadata": {},
   "outputs": [
    {
     "name": "stdout",
     "output_type": "stream",
     "text": [
      "1\n"
     ]
    }
   ],
   "source": [
    "x=[1,2,3,5,9]\n",
    "print(min(x))"
   ]
  },
  {
   "cell_type": "markdown",
   "metadata": {
    "id": "-k8pdXDek5IW"
   },
   "source": [
    "### Write a Python program to get the largest number from a list."
   ]
  },
  {
   "cell_type": "code",
   "execution_count": 38,
   "metadata": {},
   "outputs": [
    {
     "name": "stdout",
     "output_type": "stream",
     "text": [
      "9\n"
     ]
    }
   ],
   "source": [
    "x=[1,2,3,5,9]\n",
    "print(max(x))"
   ]
  },
  {
   "cell_type": "markdown",
   "metadata": {
    "id": "xY1nqjlSlC7b"
   },
   "source": [
    "### Write a Python program to clone or copy a list"
   ]
  },
  {
   "cell_type": "markdown",
   "metadata": {
    "id": "48pndthSlHSg"
   },
   "source": [
    "### Write a Python program to remove item(s) from a given set.\n",
    "\n",
    "### s = set([0, 1, 3, 4, 5])"
   ]
  },
  {
   "cell_type": "code",
   "execution_count": 37,
   "metadata": {},
   "outputs": [
    {
     "name": "stdout",
     "output_type": "stream",
     "text": [
      "{0, 1, 4, 5}\n"
     ]
    }
   ],
   "source": [
    "s = set([0, 1, 3, 4, 5])\n",
    "s.remove(3)\n",
    "print(s)"
   ]
  },
  {
   "cell_type": "markdown",
   "metadata": {
    "id": "J5nHkSQ4lmlq"
   },
   "source": [
    "### Write a Python program to find the maximum and minimum values in a set."
   ]
  },
  {
   "cell_type": "code",
   "execution_count": 33,
   "metadata": {},
   "outputs": [
    {
     "name": "stdout",
     "output_type": "stream",
     "text": [
      "max is   3\n",
      "min is   1\n"
     ]
    }
   ],
   "source": [
    "x={1,2,3}\n",
    "print(\"max is  \",max(x))\n",
    "print(\"min is  \",min(x))\n"
   ]
  },
  {
   "cell_type": "markdown",
   "metadata": {
    "id": "ZDEKN9ulnLZO"
   },
   "source": [
    "### Write a Python program to convert a tuple to a dictionary.\n",
    "### dict1 = {}\n",
    "### tuple1 = (\"name\", \"age\", \"city\",\"city\")\n",
    "\n",
    "```\n",
    "# enumerate()\n",
    "```\n",
    "\n"
   ]
  },
  {
   "cell_type": "code",
   "execution_count": null,
   "metadata": {},
   "outputs": [],
   "source": []
  },
  {
   "cell_type": "markdown",
   "metadata": {
    "id": "UN1IZCJHsWcX"
   },
   "source": [
    "### Write a Python program to replace the last value of tuples in a list.\n",
    "\n",
    "### Sample list: [(10, 20, 40), (40, 50, 60), (70, 80, 90)]\n",
    "\n",
    "### Expected Output: [(10, 20, 100), (40, 50, 100), (70, 80, 100)]\n",
    "\n"
   ]
  },
  {
   "cell_type": "code",
   "execution_count": null,
   "metadata": {},
   "outputs": [],
   "source": []
  },
  {
   "cell_type": "code",
   "execution_count": null,
   "metadata": {},
   "outputs": [],
   "source": []
  }
 ],
 "metadata": {
  "colab": {
   "provenance": []
  },
  "kernelspec": {
   "display_name": "Python 3 (ipykernel)",
   "language": "python",
   "name": "python3"
  },
  "language_info": {
   "codemirror_mode": {
    "name": "ipython",
    "version": 3
   },
   "file_extension": ".py",
   "mimetype": "text/x-python",
   "name": "python",
   "nbconvert_exporter": "python",
   "pygments_lexer": "ipython3",
   "version": "3.11.7"
  }
 },
 "nbformat": 4,
 "nbformat_minor": 1
}
