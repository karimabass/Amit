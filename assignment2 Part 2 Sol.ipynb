{
 "cells": [
  {
   "cell_type": "markdown",
   "id": "73835006",
   "metadata": {},
   "source": [
    "1. Write a Python program to add an item to a tuple."
   ]
  },
  {
   "cell_type": "code",
   "execution_count": 4,
   "id": "05d0e857",
   "metadata": {},
   "outputs": [
    {
     "name": "stdout",
     "output_type": "stream",
     "text": [
      "(1, 2, 3, 4, 5, 6)\n"
     ]
    }
   ],
   "source": [
    "x=(1,2,3)\n",
    "y=(4,5,6)\n",
    "x=x+y\n",
    "print(x)"
   ]
  },
  {
   "cell_type": "markdown",
   "id": "ff9405d8",
   "metadata": {},
   "source": [
    "2.Write a Python program to sum all the items in a list."
   ]
  },
  {
   "cell_type": "code",
   "execution_count": 13,
   "id": "3216ac35",
   "metadata": {},
   "outputs": [
    {
     "name": "stdout",
     "output_type": "stream",
     "text": [
      "10\n"
     ]
    }
   ],
   "source": [
    "x=[1,2,3,4]\n",
    "y=0\n",
    "for i in range(len(x)):\n",
    "    y=y+x[i]\n",
    "print(y)"
   ]
  },
  {
   "cell_type": "markdown",
   "id": "bbf590e0",
   "metadata": {},
   "source": [
    "3. Write a Python program to multiply all the items in a list."
   ]
  },
  {
   "cell_type": "code",
   "execution_count": 14,
   "id": "1d735873",
   "metadata": {},
   "outputs": [
    {
     "name": "stdout",
     "output_type": "stream",
     "text": [
      "24\n"
     ]
    }
   ],
   "source": [
    "x=[1,2,3,4]\n",
    "y=1\n",
    "for i in range(len(x)):\n",
    "    y=y*x[i]\n",
    "print(y)"
   ]
  },
  {
   "cell_type": "markdown",
   "id": "c27b72ae",
   "metadata": {},
   "source": [
    "4. Write a Python program to get the smallest number from a list."
   ]
  },
  {
   "cell_type": "code",
   "execution_count": 18,
   "id": "2f57cbc5",
   "metadata": {},
   "outputs": [
    {
     "name": "stdout",
     "output_type": "stream",
     "text": [
      "-10\n"
     ]
    }
   ],
   "source": [
    "x=[60,10,-10,1,2,3,4]\n",
    "ymin=5000 ## largest expected number\n",
    "for i in range(len(x)):\n",
    "    if x[i]<ymin:\n",
    "        ymin=x[i]\n",
    "    else:\n",
    "        pass\n",
    "print(ymin)"
   ]
  },
  {
   "cell_type": "markdown",
   "id": "20bea3a8",
   "metadata": {},
   "source": [
    "5. Write a Python program to get the largest number from a list."
   ]
  },
  {
   "cell_type": "code",
   "execution_count": 56,
   "id": "10f1df67",
   "metadata": {},
   "outputs": [
    {
     "name": "stdout",
     "output_type": "stream",
     "text": [
      "60\n"
     ]
    }
   ],
   "source": [
    "x=[11,25,60,10,-10,1,2,3,4]\n",
    "ymax=-5000 ## minimum expected number\n",
    "for i in range(len(x)):\n",
    "    if x[i]>ymax: \n",
    "     ymax=x[i]\n",
    "    else:\n",
    "        pass\n",
    "print(ymax)"
   ]
  },
  {
   "cell_type": "markdown",
   "id": "d317bf9f",
   "metadata": {},
   "source": [
    "6. Write a Python program to count the number of strings from a given list of strings."
   ]
  },
  {
   "cell_type": "code",
   "execution_count": 22,
   "id": "e2dbf3ed",
   "metadata": {},
   "outputs": [
    {
     "name": "stdout",
     "output_type": "stream",
     "text": [
      "4\n"
     ]
    }
   ],
   "source": [
    "x=[\"ak\",\"ndkjn\",\"sj\",\"kj\"]\n",
    "count=0\n",
    "for i in range(len(x)):\n",
    "    count=count+1\n",
    "print(count)"
   ]
  },
  {
   "cell_type": "markdown",
   "id": "b7105f59",
   "metadata": {},
   "source": [
    "7. Write a Python program to clone or copy a list"
   ]
  },
  {
   "cell_type": "code",
   "execution_count": 23,
   "id": "44f19559",
   "metadata": {},
   "outputs": [
    {
     "name": "stdout",
     "output_type": "stream",
     "text": [
      "['ak', 'ndkjn', 'sj', 'kj']\n"
     ]
    }
   ],
   "source": [
    "x=[\"ak\",\"ndkjn\",\"sj\",\"kj\"]\n",
    "y=x\n",
    "print(y)"
   ]
  },
  {
   "cell_type": "markdown",
   "id": "813be761",
   "metadata": {},
   "source": [
    "8. Write a Python program to remove item(s) from a given set."
   ]
  },
  {
   "cell_type": "code",
   "execution_count": 35,
   "id": "42b9fa20",
   "metadata": {},
   "outputs": [
    {
     "name": "stdout",
     "output_type": "stream",
     "text": [
      "{1, 3, 4}\n"
     ]
    }
   ],
   "source": [
    "x={1,2,3,4}\n",
    "x.remove(2)\n",
    "print(x)"
   ]
  },
  {
   "cell_type": "markdown",
   "id": "fb824acb",
   "metadata": {},
   "source": [
    "9. Write a Python program to check if a set is a subset of another set."
   ]
  },
  {
   "cell_type": "code",
   "execution_count": 41,
   "id": "44e9007b",
   "metadata": {},
   "outputs": [
    {
     "name": "stdout",
     "output_type": "stream",
     "text": [
      "x subset of y\n"
     ]
    }
   ],
   "source": [
    "x={1,2,3,7,4,5}\n",
    "y={2,5,7,4,5,1,15,3,316}\n",
    "if x<=y:\n",
    "    print(\"x subset of y\")\n",
    "elif y<=x:\n",
    "    print(\"y subset of x\")\n",
    "else:\n",
    "    print(\"no subset\")"
   ]
  },
  {
   "cell_type": "markdown",
   "id": "3df1ff69",
   "metadata": {},
   "source": [
    "10. Write a Python program to remove all elements from a given set"
   ]
  },
  {
   "cell_type": "code",
   "execution_count": 43,
   "id": "95553e24",
   "metadata": {},
   "outputs": [
    {
     "name": "stdout",
     "output_type": "stream",
     "text": [
      "<built-in method clear of set object at 0x000001BA75CDBD80>\n"
     ]
    }
   ],
   "source": [
    "x={1,2,3,7,4,5}\n",
    "x=x.clear\n",
    "print(x)"
   ]
  },
  {
   "cell_type": "markdown",
   "id": "3d196dd0",
   "metadata": {},
   "source": [
    "11. Write a Python program to find the maximum and minimum values in a set."
   ]
  },
  {
   "cell_type": "code",
   "execution_count": 57,
   "id": "180e8343",
   "metadata": {},
   "outputs": [
    {
     "name": "stdout",
     "output_type": "stream",
     "text": [
      "the min value is :1\n",
      "the max value is :6\n"
     ]
    }
   ],
   "source": [
    "x={1,2,5,6}\n",
    "ymin=5000 ## largest expected number\n",
    "x=list(x)\n",
    "for i in range(len(x)):\n",
    "    if x[i]<ymin:\n",
    "        ymin=x[i]\n",
    "    else:\n",
    "        pass\n",
    "print(f\"the min value is :{ymin}\")\n",
    "ymax=-5000 ## minimum expected number\n",
    "for i in range(len(x)):\n",
    "    if x[i]>ymax: \n",
    "     ymax=x[i]\n",
    "    else:\n",
    "        pass\n",
    "print(f\"the max value is :{ymax}\")"
   ]
  },
  {
   "cell_type": "markdown",
   "id": "d2083e1a",
   "metadata": {},
   "source": [
    "12. Write a Python program to find the index of an item in a tuple."
   ]
  },
  {
   "cell_type": "code",
   "execution_count": 60,
   "id": "3ab2b5de",
   "metadata": {},
   "outputs": [
    {
     "name": "stdout",
     "output_type": "stream",
     "text": [
      "4\n"
     ]
    }
   ],
   "source": [
    "x=(1,2,3,4,5)\n",
    "y=5 # required item\n",
    "x=list(x)\n",
    "indx=0\n",
    "for i in range(len(x)):\n",
    "    if x[i]==y:\n",
    "        print(i)\n",
    "        break\n",
    "    else:\n",
    "        pass\n",
    "    "
   ]
  },
  {
   "cell_type": "markdown",
   "id": "9207ba72",
   "metadata": {},
   "source": [
    "13. Write a Python program to convert a tuple to a dictionary."
   ]
  },
  {
   "cell_type": "code",
   "execution_count": 61,
   "id": "0962ae34",
   "metadata": {},
   "outputs": [
    {
     "name": "stdout",
     "output_type": "stream",
     "text": [
      "{'w': 2, 'TT': 3}\n"
     ]
    }
   ],
   "source": [
    "tuplex=((2,\"w\"),(3,\"TT\"))\n",
    "result_dict = dict((y, x) for x, y in tuplex)\n",
    "print(result_dict)"
   ]
  },
  {
   "cell_type": "markdown",
   "id": "d394779f",
   "metadata": {},
   "source": [
    "14. Write a Python program to unzip a list of tuples into individual list"
   ]
  },
  {
   "cell_type": "code",
   "execution_count": 62,
   "id": "243cfe2d",
   "metadata": {},
   "outputs": [
    {
     "name": "stdout",
     "output_type": "stream",
     "text": [
      "[(1, 3, 8), (2, 4, 9)]\n"
     ]
    }
   ],
   "source": [
    "l = [(1, 2), (3, 4), (8, 9)]\n",
    "\n",
    "result = list(zip(*l))\n",
    "\n",
    "print(result)"
   ]
  },
  {
   "cell_type": "markdown",
   "id": "0105c50a",
   "metadata": {},
   "source": [
    "15. Write a Python program to reverse a tuple."
   ]
  },
  {
   "cell_type": "code",
   "execution_count": 70,
   "id": "2e4083a9",
   "metadata": {},
   "outputs": [
    {
     "name": "stdout",
     "output_type": "stream",
     "text": [
      "(4, 3, 2, 1)\n"
     ]
    }
   ],
   "source": [
    "x=(1,2,3,4)\n",
    "x=list(x)\n",
    "x.reverse()\n",
    "y=tuple(x)\n",
    "print(y)"
   ]
  },
  {
   "cell_type": "markdown",
   "id": "b089c72b",
   "metadata": {},
   "source": [
    "16. Write a Python program to convert a list of tuples into a dictionary."
   ]
  },
  {
   "cell_type": "code",
   "execution_count": 74,
   "id": "220b3d99",
   "metadata": {},
   "outputs": [
    {
     "name": "stdout",
     "output_type": "stream",
     "text": [
      "{1: 'm', 2: 'g', 4: 't'}\n"
     ]
    }
   ],
   "source": [
    "l =[(1,\"m\"),(2,\"g\"),(4,\"t\")]\n",
    "m=tuple(l)\n",
    "result_dict = dict((x, y) for x, y in m)\n",
    "print(result_dict)\n"
   ]
  },
  {
   "cell_type": "markdown",
   "id": "ba211dce",
   "metadata": {},
   "source": [
    "17. Write a Python program to replace the last value of tuples in a list."
   ]
  },
  {
   "cell_type": "code",
   "execution_count": 88,
   "id": "1cea03d3",
   "metadata": {},
   "outputs": [
    {
     "name": "stdout",
     "output_type": "stream",
     "text": [
      "kareem amit\n"
     ]
    }
   ],
   "source": [
    "r =\"hello amit\"\n",
    "\n",
    "print(r.replace(\"hello\",\"kareem\"))"
   ]
  },
  {
   "cell_type": "markdown",
   "id": "35abb208",
   "metadata": {},
   "source": [
    "18. Write a Python program to sort a tuple by its float element."
   ]
  },
  {
   "cell_type": "code",
   "execution_count": 89,
   "id": "edaab9f4",
   "metadata": {},
   "outputs": [
    {
     "name": "stdout",
     "output_type": "stream",
     "text": [
      "[('akash', '24.541'), ('lucky', '18.265'), ('nikhil', '14.107'), ('gaurav', '10.365'), ('anand', '4.256')]\n"
     ]
    }
   ],
   "source": [
    "def Sort(tup): \n",
    "    # reverse = True (Sorts in Descending order) \n",
    "    # key is set to sort using float elements \n",
    "    # lambda has been used \n",
    "    return(sorted(tup, key = lambda x: float(x[1]), reverse = True)) \n",
    "  \n",
    "# Driver Code \n",
    "tup = [('lucky', '18.265'), ('nikhil', '14.107'), ('akash', '24.541'),  \n",
    "    ('anand', '4.256'), ('gaurav', '10.365')] \n",
    "print(Sort(tup)) "
   ]
  },
  {
   "cell_type": "code",
   "execution_count": null,
   "id": "1530a290",
   "metadata": {},
   "outputs": [],
   "source": []
  }
 ],
 "metadata": {
  "kernelspec": {
   "display_name": "Python 3 (ipykernel)",
   "language": "python",
   "name": "python3"
  },
  "language_info": {
   "codemirror_mode": {
    "name": "ipython",
    "version": 3
   },
   "file_extension": ".py",
   "mimetype": "text/x-python",
   "name": "python",
   "nbconvert_exporter": "python",
   "pygments_lexer": "ipython3",
   "version": "3.11.7"
  }
 },
 "nbformat": 4,
 "nbformat_minor": 5
}
