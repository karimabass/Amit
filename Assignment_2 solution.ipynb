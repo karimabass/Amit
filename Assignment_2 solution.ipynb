{
 "cells": [
  {
   "cell_type": "markdown",
   "metadata": {
    "id": "Ui8LKXjlii3V"
   },
   "source": [
    "### 1) Write a program to print the maximum between two numbers. (one-line conditional statement)\n"
   ]
  },
  {
   "cell_type": "code",
   "execution_count": 5,
   "metadata": {},
   "outputs": [
    {
     "name": "stdout",
     "output_type": "stream",
     "text": [
      "insert the first number2\n",
      "insert the second number1\n",
      "the x equal 2.0 is maximum\n"
     ]
    }
   ],
   "source": [
    "x=float(input(\"insert the first number\"))\n",
    "y=float(input(\"insert the second number\"))\n",
    "if x==y:\n",
    "    print(\"the two number equal\")\n",
    "elif x>y:\n",
    "    print(f\"the x equal {x} is maximum\")\n",
    "else:\n",
    "    print(f\"the y equal {y} is maximum\")"
   ]
  },
  {
   "cell_type": "markdown",
   "metadata": {
    "id": "xQB_yP4rirZS"
   },
   "source": [
    "### 2) Write a program to find the maximum between three numbers.\n"
   ]
  },
  {
   "cell_type": "code",
   "execution_count": 11,
   "metadata": {},
   "outputs": [
    {
     "name": "stdout",
     "output_type": "stream",
     "text": [
      "insert the first number5\n",
      "insert the second number2\n",
      "insert the third number9\n",
      "z is max and equal 9.0\n"
     ]
    }
   ],
   "source": [
    "x=float(input(\"insert the first number\"))\n",
    "y=float(input(\"insert the second number\"))\n",
    "z=float(input(\"insert the third number\"))\n",
    "if x==y and x==z:\n",
    "    print(\"the x=y=z\")\n",
    "elif x==y:\n",
    "    print(\"the x=y\")\n",
    "elif y==z:\n",
    "    print(\"the z=y\")\n",
    "elif x==z:\n",
    "    print(\"z=x\")\n",
    "elif x>y and x>z:\n",
    "    print(f\"x is max and equal {x}\")\n",
    "elif y>x and y>z:\n",
    "    print(f\"y is max and equal {y}\")\n",
    "else:\n",
    "    print(f\"z is max and equal {z}\")"
   ]
  },
  {
   "cell_type": "markdown",
   "metadata": {
    "id": "di3xEq8mjBRK"
   },
   "source": [
    "### 3) Write a program to check whether a number is negative, or positive (one-line conditional statement)\n"
   ]
  },
  {
   "cell_type": "code",
   "execution_count": 14,
   "metadata": {},
   "outputs": [
    {
     "name": "stdout",
     "output_type": "stream",
     "text": [
      "insert the number0\n",
      "the number is zero\n"
     ]
    }
   ],
   "source": [
    "x=float(input(\"insert the number\"))\n",
    "if x>0:\n",
    "    print(\"the number positive\")\n",
    "elif x<0:\n",
    "    print(\"the number negative\")\n",
    "else:\n",
    "    print(\"the number is zero\")\n"
   ]
  },
  {
   "cell_type": "markdown",
   "metadata": {
    "id": "grc5Gk_RjFBe"
   },
   "source": [
    "### 4) Write a  program to check whether a number is even or odd  (one-line statement).\n"
   ]
  },
  {
   "cell_type": "code",
   "execution_count": 16,
   "metadata": {},
   "outputs": [
    {
     "name": "stdout",
     "output_type": "stream",
     "text": [
      "insert the number4\n",
      "the number even\n"
     ]
    }
   ],
   "source": [
    "x=float(input(\"insert the number\"))\n",
    "x=x%2\n",
    "if x==0:\n",
    "    print(\"the number even\")\n",
    "else:\n",
    "    print(\"the number is odd\")"
   ]
  },
  {
   "cell_type": "markdown",
   "metadata": {
    "id": "-J3UtjpIjJPv"
   },
   "source": [
    "###5) Write a  program to check whether a year is a leap year or not. (one-line conditional statement).\n"
   ]
  },
  {
   "cell_type": "code",
   "execution_count": 18,
   "metadata": {},
   "outputs": [
    {
     "name": "stdout",
     "output_type": "stream",
     "text": [
      "insert the year  2025\n",
      "the year is not leap\n"
     ]
    }
   ],
   "source": [
    "x=float(input(\"insert the year  \"))\n",
    "x=x%4\n",
    "if x==0:\n",
    "    print(\"the year is leap\")\n",
    "else:\n",
    "    print(\"the year is not leap\")"
   ]
  },
  {
   "cell_type": "markdown",
   "metadata": {
    "id": "JeN4yaIMjNlC"
   },
   "source": [
    "###6) Write a  program to store the weekdays in a list and access the week day and print it by index.\n"
   ]
  },
  {
   "cell_type": "code",
   "execution_count": 21,
   "metadata": {},
   "outputs": [
    {
     "name": "stdout",
     "output_type": "stream",
     "text": [
      "insert the required day 7\n",
      "fri.\n"
     ]
    }
   ],
   "source": [
    "x=[\"sat\",\"sun\",\"Mon\",\"Tus\",\"wed\",\"thurs\",\"fri.\"]\n",
    "y=int(input(\"insert the required day \"))\n",
    "print(x[y-1])\n"
   ]
  },
  {
   "cell_type": "markdown",
   "metadata": {
    "id": "ST7uKJmtjYh1"
   },
   "source": [
    "###7) Write a  program to print all alphabets from a to z using while loop"
   ]
  },
  {
   "cell_type": "code",
   "execution_count": 36,
   "metadata": {},
   "outputs": [],
   "source": [
    "for i in range(26):\n",
    "    print(chr(i)) \n",
    "    "
   ]
  },
  {
   "cell_type": "markdown",
   "metadata": {
    "id": "PkPPTrivjran"
   },
   "source": [
    "###8)Write a program to store numbers in the List and print its reverse"
   ]
  },
  {
   "cell_type": "code",
   "execution_count": 41,
   "metadata": {},
   "outputs": [
    {
     "name": "stdout",
     "output_type": "stream",
     "text": [
      "[8, 9, 8, 5, 3, 2, 1]\n"
     ]
    }
   ],
   "source": [
    "x=[1,2,3,5,8,9,8]\n",
    "x.reverse()\n",
    "print(x)"
   ]
  },
  {
   "cell_type": "markdown",
   "metadata": {
    "id": "2JoHNIaCj7fR"
   },
   "source": [
    "### 9) Write a program to print the multiplcation table of any number"
   ]
  },
  {
   "cell_type": "code",
   "execution_count": 43,
   "metadata": {},
   "outputs": [
    {
     "name": "stdout",
     "output_type": "stream",
     "text": [
      "insert the number  5\n",
      "0.0\n",
      "5.0\n",
      "10.0\n",
      "15.0\n",
      "20.0\n",
      "25.0\n",
      "30.0\n",
      "35.0\n",
      "40.0\n",
      "45.0\n",
      "50.0\n",
      "55.0\n",
      "60.0\n"
     ]
    }
   ],
   "source": [
    "x=float(input(\"insert the number  \"))\n",
    "for i in range(13):\n",
    "    print(i*x)"
   ]
  },
  {
   "cell_type": "markdown",
   "metadata": {
    "id": "WTIX9yh1kLs-"
   },
   "source": [
    "###10)Write a program to print all even numbers between 1 to 100.(using while loop)"
   ]
  },
  {
   "cell_type": "code",
   "execution_count": 57,
   "metadata": {
    "id": "i5fTGY3Qib9Y"
   },
   "outputs": [
    {
     "name": "stdout",
     "output_type": "stream",
     "text": [
      "[2, 4, 6, 8, 10, 12, 14, 16, 18, 20, 22, 24, 26, 28, 30, 32, 34, 36, 38, 40, 42, 44, 46, 48, 50, 52, 54, 56, 58, 60, 62, 64, 66, 68, 70, 72, 74, 76, 78, 80, 82, 84, 86, 88, 90, 92, 94, 96, 98, 100]\n"
     ]
    }
   ],
   "source": [
    "x=list(range(0,102))\n",
    "print(x[2:101:2])"
   ]
  },
  {
   "cell_type": "code",
   "execution_count": null,
   "metadata": {},
   "outputs": [],
   "source": []
  }
 ],
 "metadata": {
  "colab": {
   "private_outputs": true,
   "provenance": []
  },
  "kernelspec": {
   "display_name": "Python 3 (ipykernel)",
   "language": "python",
   "name": "python3"
  },
  "language_info": {
   "codemirror_mode": {
    "name": "ipython",
    "version": 3
   },
   "file_extension": ".py",
   "mimetype": "text/x-python",
   "name": "python",
   "nbconvert_exporter": "python",
   "pygments_lexer": "ipython3",
   "version": "3.11.7"
  }
 },
 "nbformat": 4,
 "nbformat_minor": 1
}
