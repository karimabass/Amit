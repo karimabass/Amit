{
 "cells": [
  {
   "cell_type": "markdown",
   "id": "f3778b5d",
   "metadata": {},
   "source": [
    "1. Write a NumPy program to test whether none of the elements of a given array is zero.\n"
   ]
  },
  {
   "cell_type": "code",
   "execution_count": 6,
   "id": "b79a8ded",
   "metadata": {},
   "outputs": [
    {
     "name": "stdout",
     "output_type": "stream",
     "text": [
      "element 1 is zero\n"
     ]
    }
   ],
   "source": [
    "import numpy as np\n",
    "a=np.array([1,0,3,4])\n",
    "m=1\n",
    "for i in range(len(a)):\n",
    "    if a[i]==0:\n",
    "        print(f\"element {i} is zero\")\n",
    "        m=0\n",
    "        break\n",
    "    else:\n",
    "        pass\n",
    "if m==0:\n",
    "    pass\n",
    "else:\n",
    "    print(\"no item zero\")\n"
   ]
  },
  {
   "cell_type": "code",
   "execution_count": null,
   "id": "1ed91a2a",
   "metadata": {},
   "outputs": [],
   "source": []
  }
 ],
 "metadata": {
  "kernelspec": {
   "display_name": "Python 3 (ipykernel)",
   "language": "python",
   "name": "python3"
  },
  "language_info": {
   "codemirror_mode": {
    "name": "ipython",
    "version": 3
   },
   "file_extension": ".py",
   "mimetype": "text/x-python",
   "name": "python",
   "nbconvert_exporter": "python",
   "pygments_lexer": "ipython3",
   "version": "3.11.7"
  }
 },
 "nbformat": 4,
 "nbformat_minor": 5
}
