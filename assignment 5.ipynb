{
 "cells": [
  {
   "cell_type": "markdown",
   "id": "2d744c33",
   "metadata": {},
   "source": [
    "Task 3: Person class and child Student class"
   ]
  },
  {
   "cell_type": "code",
   "execution_count": 8,
   "id": "bcdfc9b9",
   "metadata": {},
   "outputs": [
    {
     "name": "stdout",
     "output_type": "stream",
     "text": [
      "the person name is ahmed and his age  33 and his section iscommunication\n"
     ]
    }
   ],
   "source": [
    "class person():\n",
    "    name=None\n",
    "    age=None\n",
    "    def display(self):\n",
    "        print(f\"the person name is {self.name} and his age  {self.age}\")\n",
    "class student(person):\n",
    "    section=None\n",
    "    def display(self):\n",
    "        print(f\"the person name is {self.name} and his age  {self.age} and his section is {self.section}\")\n",
    "    \n",
    "pr1=student()\n",
    "pr1.name=\"ahmed\"\n",
    "pr1.age=\"33\"\n",
    "pr1.section=\"communication\"\n",
    "pr1.display()\n",
    "\n",
    "        "
   ]
  },
  {
   "cell_type": "markdown",
   "id": "e691b786",
   "metadata": {},
   "source": [
    "task2: rectangular"
   ]
  },
  {
   "cell_type": "code",
   "execution_count": 20,
   "id": "b5271f53",
   "metadata": {},
   "outputs": [
    {
     "name": "stdout",
     "output_type": "stream",
     "text": [
      "perimete 8 area  4\n",
      "volume 52\n"
     ]
    }
   ],
   "source": [
    "class rectangular:\n",
    "    def __init__(self,length,width):\n",
    "        self.length=length\n",
    "        self.width=width\n",
    "    def per(self):\n",
    "        return 2*self.length*self.length\n",
    "    def area(self):\n",
    "        return self.length*self.length\n",
    "    def display(self):\n",
    "        print (\"perimete\" , self.per() ,\"area \" ,self.area())\n",
    "class par(rectangular):\n",
    "    def __init__(self,length,width,height):\n",
    "        super().__init__(length,width)\n",
    "        self.height=height\n",
    "    def volume(self):\n",
    "        return self.length*self.width*2+self.length*self.height*2+self.width*self.height*2\n",
    "    def display(self):\n",
    "        super().display()\n",
    "        print (\"volume\" , self.volume() )\n",
    "p1=par(2,3,4)\n",
    "p1.display()\n"
   ]
  },
  {
   "cell_type": "code",
   "execution_count": null,
   "id": "262490fd",
   "metadata": {},
   "outputs": [],
   "source": []
  }
 ],
 "metadata": {
  "kernelspec": {
   "display_name": "Python 3 (ipykernel)",
   "language": "python",
   "name": "python3"
  },
  "language_info": {
   "codemirror_mode": {
    "name": "ipython",
    "version": 3
   },
   "file_extension": ".py",
   "mimetype": "text/x-python",
   "name": "python",
   "nbconvert_exporter": "python",
   "pygments_lexer": "ipython3",
   "version": "3.11.7"
  }
 },
 "nbformat": 4,
 "nbformat_minor": 5
}
